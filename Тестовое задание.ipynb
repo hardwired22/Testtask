{
 "cells": [
  {
   "cell_type": "markdown",
   "id": "a508a703",
   "metadata": {},
   "source": [
    "# 1. Вопросы:"
   ]
  },
  {
   "cell_type": "markdown",
   "id": "2bd86f34",
   "metadata": {},
   "source": [
    "1) Как хорошо Вы владеете Python? Оцените свой уровень по шкале от 0 до 10,\n",
    "где 0 - совсем не знаю, 10 - владею в совершенстве.\n",
    "Объясните, почему Вы выбрали такой балл."
   ]
  },
  {
   "cell_type": "markdown",
   "id": "6c0813e4",
   "metadata": {},
   "source": [
    "Оценка 7. Знаю Python, использую классические библиотеки, но при этом не могу сказать что знаю его соверенстве."
   ]
  },
  {
   "cell_type": "markdown",
   "id": "fffbf9b6",
   "metadata": {},
   "source": [
    "2) Насколько хорошо Вы знакомы с Google Sheets? Оцените свой уровень по\n",
    "шкале от 0 до 10, где 0 - совсем не знаю, 10 - владею в совершенстве.\n",
    "Объясните, почему Вы выбрали такой балл."
   ]
  },
  {
   "cell_type": "markdown",
   "id": "a344a359",
   "metadata": {},
   "source": [
    "Оценка 4. я не имел дела с Google Sheets, но работал в Excel."
   ]
  },
  {
   "cell_type": "markdown",
   "id": "0927065c",
   "metadata": {},
   "source": [
    "# 2. Задачи на логику:"
   ]
  },
  {
   "cell_type": "markdown",
   "id": "e88a53c3",
   "metadata": {},
   "source": [
    "1) Рекламная кампания стартовала вчера с дневным бюджетом 40 $. Половина\n",
    "бюджета была израсходована к полудню, а 80% оставшегося бюджета было\n",
    "потрачено между полуднем и временем закрытия. Сколько долларов не было\n",
    "потрачено?"
   ]
  },
  {
   "cell_type": "markdown",
   "id": "77d211c8",
   "metadata": {},
   "source": [
    "20 - (0,8 * 20) = 4 \n",
    "\n",
    "<div class=\"alert alert-info\"> <b>Ответ 4 долл</b> </div>"
   ]
  },
  {
   "cell_type": "markdown",
   "id": "12f0f07c",
   "metadata": {},
   "source": [
    "2. 5 идентичных рекламных кампаний работали 24 дня по 6 часов в день,\n",
    "потрачено было 120 долларов. Сколько дней они работали бы на 216 долларов,\n",
    "если бы 9 одинаковых кампаний работали бы по 8 часов в день?"
   ]
  },
  {
   "cell_type": "markdown",
   "id": "7197bd81",
   "metadata": {},
   "source": [
    "24 * 6 * 5=720 \n",
    "\n",
    "720 / 120 = 6 часов за один доллар. \n",
    "\n",
    "216 * 6=1296 часов. \n",
    "\n",
    "1296 / (9*8) =18 дней\n",
    "\n",
    "\n",
    "<div class=\"alert alert-info\"> <b>Ответ 18 дней</b> </div>\n"
   ]
  },
  {
   "cell_type": "markdown",
   "id": "0b9128d4",
   "metadata": {},
   "source": [
    "3. Дизайнеры создали 200 рекламных баннеров для двух рекламных кампаний. 80\n",
    "из них не использовались ни в кампании No1, ни в кампании No2, 60\n",
    "использовались только в кампании No1. И для каждого рекламного баннера,\n",
    "который использовался в обеих кампаниях, приходится 3 баннера, которые\n",
    "использовались только в кампании No2. Сколько баннеров было использовано в\n",
    "обеих рекламных кампаниях?"
   ]
  },
  {
   "cell_type": "code",
   "execution_count": 1,
   "id": "21399671",
   "metadata": {},
   "outputs": [
    {
     "name": "stdout",
     "output_type": "stream",
     "text": [
      "Количество баннеров, использованных в обеих кампаниях: 60.0\n"
     ]
    }
   ],
   "source": [
    "total_banners = 200\n",
    "\n",
    "unused_banners = 80\n",
    "\n",
    "banners_used_only_in_campaign1 = 60\n",
    "\n",
    "banners_used_only_in_campaign2 = total_banners - (unused_banners - banners_used_only_in_campaign1)\n",
    "\n",
    "banners_used_in_both_campaigns = banners_used_only_in_campaign2 / 3\n",
    "\n",
    "print(\"Количество баннеров, использованных в обеих кампаниях:\", banners_used_in_both_campaigns)"
   ]
  },
  {
   "cell_type": "markdown",
   "id": "b9230d8f",
   "metadata": {},
   "source": [
    "4. Энн использует Instagram, но не Facebook, а Джон использует Youtube и\n",
    "Facebook. Кейт использует Youtube, но не Instagram, а Том использует Facebook,\n",
    "но не Youtube. Если каждый человек использует две из трех социальных сетей,\n",
    "у кого предпочтения совпадают?"
   ]
  },
  {
   "cell_type": "markdown",
   "id": "fabe9cd2",
   "metadata": {},
   "source": [
    "<div class=\"alert alert-info\"> <b>Джон и Кейт используют Youtube и Facebook </b> </div>"
   ]
  },
  {
   "cell_type": "markdown",
   "id": "0bf19013",
   "metadata": {},
   "source": [
    "5. Средний итоговый балл стажера по 4 модулям составляет 78 баллов. Сколько\n",
    "баллов должен получить стажер за 5-й модуль, чтобы средний балл по всему\n",
    "заданию составил 80?"
   ]
  },
  {
   "cell_type": "code",
   "execution_count": 2,
   "id": "c939032d",
   "metadata": {},
   "outputs": [
    {
     "name": "stdout",
     "output_type": "stream",
     "text": [
      "Стажер должен получить 88 баллов за 5-й модуль.\n"
     ]
    }
   ],
   "source": [
    "average_score = 78\n",
    "total_score_for_4_modules = average_score * 4\n",
    "\n",
    "desired_average = 80\n",
    "\n",
    "score_needed_for_5th_module = desired_average * 5 - total_score_for_4_modules\n",
    "\n",
    "print(\"Стажер должен получить\", score_needed_for_5th_module, \"баллов за 5-й модуль.\")"
   ]
  },
  {
   "cell_type": "markdown",
   "id": "34943138",
   "metadata": {},
   "source": [
    "6. Заказанные в приложении товары доставляются на автомобиле. Автомобиль\n",
    "проезжает 260 км со средней скоростью 80 км / ч. На обратном пути машина\n",
    "движется со средней скоростью 100 км / ч. Насколько быстрее был обратный\n",
    "путь? Ответ указать в минутах."
   ]
  },
  {
   "cell_type": "markdown",
   "id": "5e41f7c5",
   "metadata": {},
   "source": [
    "260 / 80 = 3,25\n",
    "\n",
    "260 / 100 = 2,6\n",
    "\n",
    "3,25 = 195\n",
    "\n",
    "2,6 = 156\n",
    "\n",
    "195 - 156 = 39\n",
    "\n",
    "<div class=\"alert alert-info\"> <b>Ответ на 39 минут</b> </div>"
   ]
  },
  {
   "cell_type": "code",
   "execution_count": null,
   "id": "5bd2a67e",
   "metadata": {},
   "outputs": [],
   "source": []
  }
 ],
 "metadata": {
  "kernelspec": {
   "display_name": "Python 3 (ipykernel)",
   "language": "python",
   "name": "python3"
  },
  "language_info": {
   "codemirror_mode": {
    "name": "ipython",
    "version": 3
   },
   "file_extension": ".py",
   "mimetype": "text/x-python",
   "name": "python",
   "nbconvert_exporter": "python",
   "pygments_lexer": "ipython3",
   "version": "3.11.4"
  }
 },
 "nbformat": 4,
 "nbformat_minor": 5
}
